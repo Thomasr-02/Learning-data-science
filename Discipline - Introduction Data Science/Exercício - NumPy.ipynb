{
 "cells": [
  {
   "cell_type": "markdown",
   "metadata": {},
   "source": [
    "# Introdução à Ciência de Dados - UFPB\n",
    "Professor: Yuri Malheiros\n",
    "\n",
    "## NumPy"
   ]
  },
  {
   "cell_type": "markdown",
   "metadata": {},
   "source": [
    "Implemente a função `distance` abaixo. Ela deve receber dois pontos e retornar a distância euclidiana entre eles. Cada ponto é representado por um array do NumPy, por exemplo, `p1 = np.array([2,4])` representa o ponto com coordenadas x=2 e y=2."
   ]
  },
  {
   "cell_type": "code",
   "execution_count": 22,
   "metadata": {
    "tags": []
   },
   "outputs": [
    {
     "output_type": "execute_result",
     "data": {
      "text/plain": "1.4142135623730951"
     },
     "metadata": {},
     "execution_count": 22
    }
   ],
   "source": [
    "import numpy as np\n",
    "\n",
    "def distance(p1, p2):\n",
    "    \"\"\"\n",
    "    >>> distance(np.array([0,0]), np.array([1,1]))\n",
    "    1.4142135623730951\n",
    "    \n",
    "    >>> distance(np.array([1,2]), np.array([3,4]))\n",
    "    2.8284271247461903\n",
    "    \n",
    "    >>> distance(np.array([5,2]), np.array([-2,-1]))\n",
    "    7.615773105863909\n",
    "    \"\"\"\n",
    "    # ADICIONE O SEU CÓDIGO AQUI\n",
    "    return np.sqrt(((p2[0] - p1[0]) **2) + ((p2[1] - p1[1]) ** 2))"
   ]
  },
  {
   "cell_type": "markdown",
   "metadata": {},
   "source": [
    "Implemente a função `n_distances` abaixo. Ela recebe um ponto (`p1`), como um array do NumPy, e uma lista de pontos (`points`), uma matriz do NumPy, onde cada linha representa um ponto.\n",
    "\n",
    "Esta função deve retornar a distância de `p1` para todos os pontos da matriz `points`. O retorno também é uma matriz, onde cada linha tem a distância de `p1` para o ponto daquela linha."
   ]
  },
  {
   "cell_type": "code",
   "execution_count": 64,
   "metadata": {
    "tags": []
   },
   "outputs": [],
   "source": [
    "def n_distances(p1, points):\n",
    "    \"\"\"\n",
    "    >>> n_distances(np.array([0,0]), np.array([[1,1]]))\n",
    "    array([1.41421356])\n",
    "    \n",
    "    >>> n_distances(np.array([0,0]), np.array([[1,1], [2,2]]))\n",
    "    array([1.41421356, 2.82842712])\n",
    "    \n",
    "    >>> n_distances(np.array([1,2]), np.array([[3,-1], [2,1], [5, 2], [10, 1], [-2, -5]]))\n",
    "    array([3.60555128, 1.41421356, 4.        , 9.05538514, 7.61577311])\n",
    "    \"\"\"\n",
    "    \n",
    "    # ADICIONE O SEU CÓDIGO AQUI\n",
    "    distanceAllPoints = []\n",
    "    for i in points:\n",
    "        distanceAllPoints.append(distance(p1,i))\n",
    "    return np.array(distanceAllPoints)"
   ]
  },
  {
   "cell_type": "markdown",
   "metadata": {},
   "source": [
    "## Teste"
   ]
  },
  {
   "cell_type": "code",
   "execution_count": 65,
   "metadata": {
    "tags": []
   },
   "outputs": [
    {
     "output_type": "stream",
     "name": "stdout",
     "text": "Trying:\n    distance(np.array([0,0]), np.array([1,1]))\nExpecting:\n    1.4142135623730951\nok\nTrying:\n    distance(np.array([1,2]), np.array([3,4]))\nExpecting:\n    2.8284271247461903\nok\nTrying:\n    distance(np.array([5,2]), np.array([-2,-1]))\nExpecting:\n    7.615773105863909\nok\nTrying:\n    n_distances(np.array([0,0]), np.array([[1,1]]))\nExpecting:\n    array([1.41421356])\nok\nTrying:\n    n_distances(np.array([0,0]), np.array([[1,1], [2,2]]))\nExpecting:\n    array([1.41421356, 2.82842712])\nok\nTrying:\n    n_distances(np.array([1,2]), np.array([[3,-1], [2,1], [5, 2], [10, 1], [-2, -5]]))\nExpecting:\n    array([3.60555128, 1.41421356, 4.        , 9.05538514, 7.61577311])\nok\n1 items had no tests:\n    __main__\n2 items passed all tests:\n   3 tests in __main__.distance\n   3 tests in __main__.n_distances\n6 tests in 3 items.\n6 passed and 0 failed.\nTest passed.\n"
    },
    {
     "output_type": "execute_result",
     "data": {
      "text/plain": "TestResults(failed=0, attempted=6)"
     },
     "metadata": {},
     "execution_count": 65
    }
   ],
   "source": [
    "import doctest\n",
    "\n",
    "doctest.testmod(verbose=True)"
   ]
  }
 ],
 "metadata": {
  "kernelspec": {
   "display_name": "Python 3.6.9 64-bit",
   "language": "python",
   "name": "python36964bitd20c20a10e11406d895f3cd3a9d16d89"
  },
  "language_info": {
   "codemirror_mode": {
    "name": "ipython",
    "version": 3
   },
   "file_extension": ".py",
   "mimetype": "text/x-python",
   "name": "python",
   "nbconvert_exporter": "python",
   "pygments_lexer": "ipython3",
   "version": "3.6.9-final"
  }
 },
 "nbformat": 4,
 "nbformat_minor": 4
}