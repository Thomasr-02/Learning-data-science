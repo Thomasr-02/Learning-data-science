{
 "cells": [
  {
   "cell_type": "markdown",
   "metadata": {},
   "source": [
    "# Introdução à Ciência de Dados - UFPB\n",
    "Professor: Yuri Malheiros\n",
    "\n",
    "## Medidas de Centralidade e Dispersão"
   ]
  },
  {
   "cell_type": "markdown",
   "metadata": {},
   "source": [
    "A partir do dataset `movies.csv` calcule a média, mediana e desvio padrão para as colunas:"
   ]
  },
  {
   "cell_type": "markdown",
   "metadata": {},
   "source": [
    "### US Gross"
   ]
  },
  {
   "cell_type": "code",
   "execution_count": 217,
   "metadata": {
    "tags": []
   },
   "outputs": [
    {
     "output_type": "stream",
     "name": "stdout",
     "text": [
      "|  Media: 44002085.163744524\n|  Mediana: 22019465.5\n|  Desvio padrão: 62545517.99547244\n"
     ]
    }
   ],
   "source": [
    "# ADICIONE O SEU CÓDIGO AQUI\n",
    "import pandas as pd\n",
    "import numpy as np\n",
    "import os\n",
    "CURRENT_DIR=os.path.abspath(os.getcwd())\n",
    "dataset = pd.read_csv(CURRENT_DIR+'/datasets/'+'movies.csv')\n",
    "\n",
    "meanGross = np.mean(dataset['US Gross'])\n",
    "medianGross = dataset['US Gross'].median()\n",
    "standDeviation = np.sqrt(np.var(dataset['US Gross']))\n",
    "\n",
    "print(\"|  Media: {}\".format(meanGross))\n",
    "print(\"|  Mediana: {}\".format(medianGross))\n",
    "print(\"|  Desvio padrão: {}\".format(standDeviation))"
   ]
  },
  {
   "cell_type": "markdown",
   "metadata": {},
   "source": [
    "### Production Budget"
   ]
  },
  {
   "cell_type": "code",
   "execution_count": 219,
   "metadata": {},
   "outputs": [
    {
     "output_type": "stream",
     "name": "stdout",
     "text": [
      "|  Media: 31069171.4484375\n|  Mediana: 20000000.0\n|  Desvio padrão: 35580352.71120245\n"
     ]
    }
   ],
   "source": [
    "# ADICIONE O SEU CÓDIGO AQUI\n",
    "\n",
    "meanProduction = np.mean(dataset['Production Budget'])\n",
    "\n",
    "medianProduction = dataset['Production Budget'].median()\n",
    "\n",
    "standDeviation = np.sqrt(np.var(dataset['Production Budget']))\n",
    "\n",
    "\n",
    "print(\"|  Media: {}\".format(meanProduction))\n",
    "print(\"|  Mediana: {}\".format(medianProduction))\n",
    "print(\"|  Desvio padrão: {}\".format(standDeviation))"
   ]
  },
  {
   "cell_type": "markdown",
   "metadata": {},
   "source": [
    "### Running Time"
   ]
  },
  {
   "cell_type": "code",
   "execution_count": 221,
   "metadata": {},
   "outputs": [
    {
     "output_type": "stream",
     "name": "stdout",
     "text": [
      "|  Media: 110.19354838709677\n|  Mediana: 107.0\n|  Desvio padrão: 20.16266992798399\n"
     ]
    }
   ],
   "source": [
    "# ADICIONE O SEU CÓDIGO AQUI\n",
    "\n",
    "meanRunning = np.mean(dataset['Running Time (min)'])\n",
    "\n",
    "medianRunning =dataset['Running Time (min)'].median()\n",
    "\n",
    "standDeviation = np.sqrt(np.var(dataset['Running Time (min)']))\n",
    "\n",
    "\n",
    "print(\"|  Media: {}\".format(meanRunning))\n",
    "print(\"|  Mediana: {}\".format(medianRunning))\n",
    "print(\"|  Desvio padrão: {}\".format(standDeviation))"
   ]
  },
  {
   "cell_type": "markdown",
   "metadata": {},
   "source": [
    "### IMDB Rating"
   ]
  },
  {
   "cell_type": "code",
   "execution_count": 222,
   "metadata": {},
   "outputs": [
    {
     "output_type": "stream",
     "name": "stdout",
     "text": [
      "|  Media: 6.283467202141901\n|  Mediana: 6.4\n|  Desvio padrão: 1.2520803678620684\n"
     ]
    }
   ],
   "source": [
    "# ADICIONE O SEU CÓDIGO AQUI\n",
    "\n",
    "meanRating = np.mean(dataset['IMDB Rating'])\n",
    "\n",
    "medianRating =dataset['IMDB Rating'].median()\n",
    "\n",
    "standDeviation = np.sqrt(np.var(dataset['IMDB Rating']))\n",
    "\n",
    "\n",
    "print(\"|  Media: {}\".format(meanRating))\n",
    "print(\"|  Mediana: {}\".format(medianRating))\n",
    "print(\"|  Desvio padrão: {}\".format(standDeviation))"
   ]
  },
  {
   "cell_type": "markdown",
   "metadata": {},
   "source": [
    "### IMDB Votes"
   ]
  },
  {
   "cell_type": "code",
   "execution_count": 223,
   "metadata": {},
   "outputs": [
    {
     "output_type": "stream",
     "name": "stdout",
     "text": [
      "|  Media: 29908.64457831325\n|  Mediana: 15106.0\n|  Desvio padrão: 44930.06203002918\n"
     ]
    }
   ],
   "source": [
    "# ADICIONE O SEU CÓDIGO AQUI\n",
    "\n",
    "meanVotes = np.mean(dataset['IMDB Votes'])\n",
    "\n",
    "medianVotes =dataset['IMDB Votes'].median()\n",
    "\n",
    "standDeviation = np.sqrt(np.var(dataset['IMDB Votes']))\n",
    "\n",
    "\n",
    "print(\"|  Media: {}\".format(meanVotes))\n",
    "print(\"|  Mediana: {}\".format(medianVotes))\n",
    "print(\"|  Desvio padrão: {}\".format(standDeviation))"
   ]
  },
  {
   "cell_type": "markdown",
   "metadata": {},
   "source": [
    "### Análise dos Resultados\n",
    "\n",
    "Quais colunas tiveram valores muito diferentes entre média e mediana? Quais os seus desvios padrão?"
   ]
  },
  {
   "cell_type": "markdown",
   "metadata": {},
   "source": [
    "**RESPONDA AQUI**\n",
    "\n",
    "O US Gross, obteve uma alta descrepância entre a média e seu desvio padrão\n",
    "|  Desvio padrão: 62545517.99547244\n",
    "\n",
    "Production Budget, obteve uma alta descrepância entre a média e seu desvio padrão\n",
    "|  Desvio padrão: 35580352.71120245\n",
    "\n",
    "IMDB Votes, obteve uma alta descrepância entre a média e seu desvio padrão\n",
    "|  Desvio padrão: 44930.06203002918"
   ]
  },
  {
   "cell_type": "markdown",
   "metadata": {},
   "source": [
    "Que conclusões podemos tirar desses resultados?"
   ]
  },
  {
   "cell_type": "markdown",
   "metadata": {},
   "source": [
    "**RESPONDA AQUI**\n",
    "\n",
    "Não podemos ter um bom resultado ou extrair boas informações dos dados  que contém maior vâriancia pois a média não é um bom representativo para os dados analisados.\n",
    "Já nos casos que possuiram poucam descrepância entre o seu desvio padrão, podemos extrair uma boa estimativa média dos seus dados como Running Time e IMDB Rating, esses ajudariam uma avaliação dos proximos filmes para uma predição de qual seu tempo de duração e sua avaliação."
   ]
  }
 ],
 "metadata": {
  "kernelspec": {
   "display_name": "Python 3.6.9 64-bit",
   "language": "python",
   "name": "python36964bitd20c20a10e11406d895f3cd3a9d16d89"
  },
  "language_info": {
   "codemirror_mode": {
    "name": "ipython",
    "version": 3
   },
   "file_extension": ".py",
   "mimetype": "text/x-python",
   "name": "python",
   "nbconvert_exporter": "python",
   "pygments_lexer": "ipython3",
   "version": "3.6.9-final"
  }
 },
 "nbformat": 4,
 "nbformat_minor": 4
}