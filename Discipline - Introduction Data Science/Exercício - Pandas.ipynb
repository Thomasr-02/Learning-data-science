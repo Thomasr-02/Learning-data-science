{
 "cells": [
  {
   "cell_type": "markdown",
   "metadata": {},
   "source": [
    "# Introdução à Ciência de Dados - UFPB\n",
    "Professor: Yuri Malheiros\n",
    "\n",
    "## Pandas"
   ]
  },
  {
   "cell_type": "markdown",
   "metadata": {},
   "source": [
    "A partir do dataset `movies.csv` utilize o Pandas para responder as seguintes perguntas:"
   ]
  },
  {
   "cell_type": "markdown",
   "metadata": {},
   "source": [
    "### Qual o gênero de filme mais lucrativo em todo o mundo?"
   ]
  },
  {
   "cell_type": "code",
   "execution_count": 12,
   "metadata": {
    "tags": []
   },
   "outputs": [
    {
     "output_type": "execute_result",
     "data": {
      "text/plain": [
       "Adventure    6.608096e+10\n",
       "dtype: float64"
      ]
     },
     "metadata": {},
     "execution_count": 12
    }
   ],
   "source": [
    "# ADICIONE O SEU CÓDIGO AQUI\n",
    "import pandas as pd\n",
    "import os\n",
    "CURRENT_DIR=os.path.abspath(os.getcwd())\n",
    "dataset = pd.read_csv(CURRENT_DIR+'/datasets/'+'movies.csv')\n",
    "\n",
    "#dataset.groupby(\"Major Genre\").max([\"Worldwide Gross\"]).head(1)\n",
    "grossForGenre = [dataset[dataset['Major Genre'].unique()[i] == dataset['Major Genre']]['Worldwide Gross'].sum() for i in range(len(dataset['Major Genre'].unique()))]\n",
    "pd.Series(grossForGenre, dataset['Major Genre'].unique()).sort_values(ascending=False).head(1)"
   ]
  },
  {
   "cell_type": "markdown",
   "metadata": {},
   "source": [
    "### Qual o diretor dirigiu mais filmes?"
   ]
  },
  {
   "cell_type": "code",
   "execution_count": 284,
   "metadata": {},
   "outputs": [
    {
     "output_type": "execute_result",
     "data": {
      "text/plain": "&#39;Steven Spielberg&#39;"
     },
     "metadata": {},
     "execution_count": 284
    }
   ],
   "source": [
    "# ADICIONE O SEU CÓDIGO AQUI\n",
    "dataset[\"Director\"].value_counts().index.values[0]"
   ]
  },
  {
   "cell_type": "markdown",
   "metadata": {},
   "source": [
    "### Quais filmes tiverem os maiores arrecadações (Gross) em relação ao orçamento de produção (Budget)?"
   ]
  },
  {
   "cell_type": "code",
   "execution_count": 31,
   "metadata": {
    "tags": []
   },
   "outputs": [
    {
     "output_type": "execute_result",
     "data": {
      "text/plain": "       Title     US Gross  Worldwide Gross  US DVD Sales  Production Budget  \\\n1234  Avatar  760167650.0     2.767891e+09   146153933.0        237000000.0   \n\n     Release Date MPAA Rating  Running Time (min)       Distributor  \\\n1234    18-Dec-09       PG-13                 NaN  20th Century Fox   \n\n                   Source Major Genre    Creative Type       Director  \\\n1234  Original Screenplay      Action  Science Fiction  James Cameron   \n\n      Rotten Tomatoes Rating  IMDB Rating  IMDB Votes  DifGrossBudget  \n1234                    83.0          8.3    261439.0     523167650.0  ",
      "text/html": "<div>\n<style scoped>\n    .dataframe tbody tr th:only-of-type {\n        vertical-align: middle;\n    }\n\n    .dataframe tbody tr th {\n        vertical-align: top;\n    }\n\n    .dataframe thead th {\n        text-align: right;\n    }\n</style>\n<table border=\"1\" class=\"dataframe\">\n  <thead>\n    <tr style=\"text-align: right;\">\n      <th></th>\n      <th>Title</th>\n      <th>US Gross</th>\n      <th>Worldwide Gross</th>\n      <th>US DVD Sales</th>\n      <th>Production Budget</th>\n      <th>Release Date</th>\n      <th>MPAA Rating</th>\n      <th>Running Time (min)</th>\n      <th>Distributor</th>\n      <th>Source</th>\n      <th>Major Genre</th>\n      <th>Creative Type</th>\n      <th>Director</th>\n      <th>Rotten Tomatoes Rating</th>\n      <th>IMDB Rating</th>\n      <th>IMDB Votes</th>\n      <th>DifGrossBudget</th>\n    </tr>\n  </thead>\n  <tbody>\n    <tr>\n      <th>1234</th>\n      <td>Avatar</td>\n      <td>760167650.0</td>\n      <td>2.767891e+09</td>\n      <td>146153933.0</td>\n      <td>237000000.0</td>\n      <td>18-Dec-09</td>\n      <td>PG-13</td>\n      <td>NaN</td>\n      <td>20th Century Fox</td>\n      <td>Original Screenplay</td>\n      <td>Action</td>\n      <td>Science Fiction</td>\n      <td>James Cameron</td>\n      <td>83.0</td>\n      <td>8.3</td>\n      <td>261439.0</td>\n      <td>523167650.0</td>\n    </tr>\n  </tbody>\n</table>\n</div>"
     },
     "metadata": {},
     "execution_count": 31
    }
   ],
   "source": [
    "# ADICIONE O SEU CÓDIGO AQUI\n",
    "dataset['DifGrossBudget'] = dataset[\"US Gross\"]-dataset[\"Production Budget\"]\n",
    "dataset.loc[[dataset['DifGrossBudget'].sort_values(ascending=False).index[i] for i in range(len(dataset))]].head(1)"
   ]
  }
 ],
 "metadata": {
  "kernelspec": {
   "display_name": "Python 3.6.9 64-bit",
   "language": "python",
   "name": "python36964bitd20c20a10e11406d895f3cd3a9d16d89"
  },
  "language_info": {
   "codemirror_mode": {
    "name": "ipython",
    "version": 3
   },
   "file_extension": ".py",
   "mimetype": "text/x-python",
   "name": "python",
   "nbconvert_exporter": "python",
   "pygments_lexer": "ipython3",
   "version": "3.6.9-final"
  }
 },
 "nbformat": 4,
 "nbformat_minor": 4
}