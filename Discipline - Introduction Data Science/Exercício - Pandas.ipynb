{
 "cells": [
  {
   "cell_type": "markdown",
   "metadata": {},
   "source": [
    "# Introdução à Ciência de Dados - UFPB\n",
    "Professor: Yuri Malheiros\n",
    "\n",
    "## Pandas"
   ]
  },
  {
   "cell_type": "markdown",
   "metadata": {},
   "source": [
    "A partir do dataset `movies.csv` utilize o Pandas para responder as seguintes perguntas:"
   ]
  },
  {
   "cell_type": "markdown",
   "metadata": {},
   "source": [
    "### Qual o gênero de filme mais lucrativo em todo o mundo?"
   ]
  },
  {
   "cell_type": "code",
   "execution_count": 266,
   "metadata": {
    "tags": []
   },
   "outputs": [
    {
     "output_type": "execute_result",
     "data": {
      "text/plain": "                US Gross  Worldwide Gross  US DVD Sales  Production Budget  \\\nMajor Genre                                                                  \nAction       760167650.0     2.767891e+09   290787166.0        237000000.0   \n\n             Running Time (min)  Rotten Tomatoes Rating  IMDB Rating  \\\nMajor Genre                                                            \nAction                    183.0                   100.0          8.9   \n\n             IMDB Votes  \nMajor Genre              \nAction         465000.0  ",
      "text/html": "<div>\n<style scoped>\n    .dataframe tbody tr th:only-of-type {\n        vertical-align: middle;\n    }\n\n    .dataframe tbody tr th {\n        vertical-align: top;\n    }\n\n    .dataframe thead th {\n        text-align: right;\n    }\n</style>\n<table border=\"1\" class=\"dataframe\">\n  <thead>\n    <tr style=\"text-align: right;\">\n      <th></th>\n      <th>US Gross</th>\n      <th>Worldwide Gross</th>\n      <th>US DVD Sales</th>\n      <th>Production Budget</th>\n      <th>Running Time (min)</th>\n      <th>Rotten Tomatoes Rating</th>\n      <th>IMDB Rating</th>\n      <th>IMDB Votes</th>\n    </tr>\n    <tr>\n      <th>Major Genre</th>\n      <th></th>\n      <th></th>\n      <th></th>\n      <th></th>\n      <th></th>\n      <th></th>\n      <th></th>\n      <th></th>\n    </tr>\n  </thead>\n  <tbody>\n    <tr>\n      <th>Action</th>\n      <td>760167650.0</td>\n      <td>2.767891e+09</td>\n      <td>290787166.0</td>\n      <td>237000000.0</td>\n      <td>183.0</td>\n      <td>100.0</td>\n      <td>8.9</td>\n      <td>465000.0</td>\n    </tr>\n  </tbody>\n</table>\n</div>"
     },
     "metadata": {},
     "execution_count": 266
    }
   ],
   "source": [
    "# ADICIONE O SEU CÓDIGO AQUI\n",
    "import pandas as pd\n",
    "import os\n",
    "CURRENT_DIR=os.path.abspath(os.getcwd())\n",
    "dataset = pd.read_csv(CURRENT_DIR+'/datasets/'+'movies.csv')\n",
    "dataset.groupby(\"Major Genre\").max([\"Worldwide Gross\"]).head(1)"
   ]
  },
  {
   "cell_type": "markdown",
   "metadata": {},
   "source": [
    "### Qual o diretor dirigiu mais filmes?"
   ]
  },
  {
   "cell_type": "code",
   "execution_count": 258,
   "metadata": {},
   "outputs": [
    {
     "output_type": "execute_result",
     "data": {
      "text/plain": "Steven Spielberg    23\nName: Director, dtype: int64"
     },
     "metadata": {},
     "execution_count": 258
    }
   ],
   "source": [
    "# ADICIONE O SEU CÓDIGO AQUI\n",
    "dataset[\"Director\"].value_counts().head(1)"
   ]
  },
  {
   "cell_type": "markdown",
   "metadata": {},
   "source": [
    "### Quais filmes tiverem os maiores arrecadações (Gross) em relação ao orçamento de produção (Budget)?"
   ]
  },
  {
   "cell_type": "code",
   "execution_count": 248,
   "metadata": {},
   "outputs": [
    {
     "output_type": "execute_result",
     "data": {
      "text/plain": "                           Title    US Gross  Worldwide Gross  US DVD Sales  \\\n0                 The Land Girls    146083.0         146083.0           NaN   \n1         First Love, Last Rites     10876.0          10876.0           NaN   \n2     I Married a Strange Person    203134.0         203134.0           NaN   \n3           Let&#39;s Talk About Sex    373615.0         373615.0           NaN   \n4                           Slam   1009819.0        1087521.0           NaN   \n...                          ...         ...              ...           ...   \n3196  Zack and Miri Make a Porno  31452765.0       36851125.0    21240321.0   \n3197                      Zodiac  33080084.0       83080084.0    20983030.0   \n3198                        Zoom  11989328.0       12506188.0     6679409.0   \n3199         The Legend of Zorro  45575336.0      141475336.0           NaN   \n3200           The Mask of Zorro  93828745.0      233700000.0           NaN   \n\n      Production Budget Release Date MPAA Rating  Running Time (min)  \\\n0             8000000.0    12-Jun-98           R                 NaN   \n1              300000.0     7-Aug-98           R                 NaN   \n2              250000.0    28-Aug-98         NaN                 NaN   \n3              300000.0    11-Sep-98         NaN                 NaN   \n4             1000000.0     9-Oct-98           R                 NaN   \n...                 ...          ...         ...                 ...   \n3196         24000000.0    31-Oct-08           R               101.0   \n3197         85000000.0     2-Mar-07           R               157.0   \n3198         35000000.0    11-Aug-06          PG                 NaN   \n3199         80000000.0    28-Oct-05          PG               129.0   \n3200         65000000.0    17-Jul-98       PG-13               136.0   \n\n             Distributor                        Source        Major Genre  \\\n0               Gramercy                           NaN                NaN   \n1                 Strand                           NaN              Drama   \n2              Lionsgate                           NaN             Comedy   \n3              Fine Line                           NaN             Comedy   \n4                Trimark           Original Screenplay              Drama   \n...                  ...                           ...                ...   \n3196       Weinstein Co.           Original Screenplay             Comedy   \n3197  Paramount Pictures     Based on Book/Short Story  Thriller/Suspense   \n3198       Sony Pictures  Based on Comic/Graphic Novel          Adventure   \n3199       Sony Pictures                        Remake          Adventure   \n3200       Sony Pictures                        Remake          Adventure   \n\n             Creative Type         Director  Rotten Tomatoes Rating  \\\n0                      NaN              NaN                     NaN   \n1                      NaN              NaN                     NaN   \n2                      NaN              NaN                     NaN   \n3                      NaN              NaN                    13.0   \n4     Contemporary Fiction              NaN                    62.0   \n...                    ...              ...                     ...   \n3196  Contemporary Fiction      Kevin Smith                    65.0   \n3197         Dramatization    David Fincher                    89.0   \n3198            Super Hero     Peter Hewitt                     3.0   \n3199    Historical Fiction  Martin Campbell                    26.0   \n3200    Historical Fiction  Martin Campbell                    82.0   \n\n      IMDB Rating  IMDB Votes  \n0             6.1      1071.0  \n1             6.9       207.0  \n2             6.8       865.0  \n3             NaN         NaN  \n4             3.4       165.0  \n...           ...         ...  \n3196          7.0     55687.0  \n3197          NaN         NaN  \n3198          3.4      7424.0  \n3199          5.7     21161.0  \n3200          6.7      4789.0  \n\n[3201 rows x 16 columns]",
      "text/html": "<div>\n<style scoped>\n    .dataframe tbody tr th:only-of-type {\n        vertical-align: middle;\n    }\n\n    .dataframe tbody tr th {\n        vertical-align: top;\n    }\n\n    .dataframe thead th {\n        text-align: right;\n    }\n</style>\n<table border=\"1\" class=\"dataframe\">\n  <thead>\n    <tr style=\"text-align: right;\">\n      <th></th>\n      <th>Title</th>\n      <th>US Gross</th>\n      <th>Worldwide Gross</th>\n      <th>US DVD Sales</th>\n      <th>Production Budget</th>\n      <th>Release Date</th>\n      <th>MPAA Rating</th>\n      <th>Running Time (min)</th>\n      <th>Distributor</th>\n      <th>Source</th>\n      <th>Major Genre</th>\n      <th>Creative Type</th>\n      <th>Director</th>\n      <th>Rotten Tomatoes Rating</th>\n      <th>IMDB Rating</th>\n      <th>IMDB Votes</th>\n    </tr>\n  </thead>\n  <tbody>\n    <tr>\n      <th>0</th>\n      <td>The Land Girls</td>\n      <td>146083.0</td>\n      <td>146083.0</td>\n      <td>NaN</td>\n      <td>8000000.0</td>\n      <td>12-Jun-98</td>\n      <td>R</td>\n      <td>NaN</td>\n      <td>Gramercy</td>\n      <td>NaN</td>\n      <td>NaN</td>\n      <td>NaN</td>\n      <td>NaN</td>\n      <td>NaN</td>\n      <td>6.1</td>\n      <td>1071.0</td>\n    </tr>\n    <tr>\n      <th>1</th>\n      <td>First Love, Last Rites</td>\n      <td>10876.0</td>\n      <td>10876.0</td>\n      <td>NaN</td>\n      <td>300000.0</td>\n      <td>7-Aug-98</td>\n      <td>R</td>\n      <td>NaN</td>\n      <td>Strand</td>\n      <td>NaN</td>\n      <td>Drama</td>\n      <td>NaN</td>\n      <td>NaN</td>\n      <td>NaN</td>\n      <td>6.9</td>\n      <td>207.0</td>\n    </tr>\n    <tr>\n      <th>2</th>\n      <td>I Married a Strange Person</td>\n      <td>203134.0</td>\n      <td>203134.0</td>\n      <td>NaN</td>\n      <td>250000.0</td>\n      <td>28-Aug-98</td>\n      <td>NaN</td>\n      <td>NaN</td>\n      <td>Lionsgate</td>\n      <td>NaN</td>\n      <td>Comedy</td>\n      <td>NaN</td>\n      <td>NaN</td>\n      <td>NaN</td>\n      <td>6.8</td>\n      <td>865.0</td>\n    </tr>\n    <tr>\n      <th>3</th>\n      <td>Let's Talk About Sex</td>\n      <td>373615.0</td>\n      <td>373615.0</td>\n      <td>NaN</td>\n      <td>300000.0</td>\n      <td>11-Sep-98</td>\n      <td>NaN</td>\n      <td>NaN</td>\n      <td>Fine Line</td>\n      <td>NaN</td>\n      <td>Comedy</td>\n      <td>NaN</td>\n      <td>NaN</td>\n      <td>13.0</td>\n      <td>NaN</td>\n      <td>NaN</td>\n    </tr>\n    <tr>\n      <th>4</th>\n      <td>Slam</td>\n      <td>1009819.0</td>\n      <td>1087521.0</td>\n      <td>NaN</td>\n      <td>1000000.0</td>\n      <td>9-Oct-98</td>\n      <td>R</td>\n      <td>NaN</td>\n      <td>Trimark</td>\n      <td>Original Screenplay</td>\n      <td>Drama</td>\n      <td>Contemporary Fiction</td>\n      <td>NaN</td>\n      <td>62.0</td>\n      <td>3.4</td>\n      <td>165.0</td>\n    </tr>\n    <tr>\n      <th>...</th>\n      <td>...</td>\n      <td>...</td>\n      <td>...</td>\n      <td>...</td>\n      <td>...</td>\n      <td>...</td>\n      <td>...</td>\n      <td>...</td>\n      <td>...</td>\n      <td>...</td>\n      <td>...</td>\n      <td>...</td>\n      <td>...</td>\n      <td>...</td>\n      <td>...</td>\n      <td>...</td>\n    </tr>\n    <tr>\n      <th>3196</th>\n      <td>Zack and Miri Make a Porno</td>\n      <td>31452765.0</td>\n      <td>36851125.0</td>\n      <td>21240321.0</td>\n      <td>24000000.0</td>\n      <td>31-Oct-08</td>\n      <td>R</td>\n      <td>101.0</td>\n      <td>Weinstein Co.</td>\n      <td>Original Screenplay</td>\n      <td>Comedy</td>\n      <td>Contemporary Fiction</td>\n      <td>Kevin Smith</td>\n      <td>65.0</td>\n      <td>7.0</td>\n      <td>55687.0</td>\n    </tr>\n    <tr>\n      <th>3197</th>\n      <td>Zodiac</td>\n      <td>33080084.0</td>\n      <td>83080084.0</td>\n      <td>20983030.0</td>\n      <td>85000000.0</td>\n      <td>2-Mar-07</td>\n      <td>R</td>\n      <td>157.0</td>\n      <td>Paramount Pictures</td>\n      <td>Based on Book/Short Story</td>\n      <td>Thriller/Suspense</td>\n      <td>Dramatization</td>\n      <td>David Fincher</td>\n      <td>89.0</td>\n      <td>NaN</td>\n      <td>NaN</td>\n    </tr>\n    <tr>\n      <th>3198</th>\n      <td>Zoom</td>\n      <td>11989328.0</td>\n      <td>12506188.0</td>\n      <td>6679409.0</td>\n      <td>35000000.0</td>\n      <td>11-Aug-06</td>\n      <td>PG</td>\n      <td>NaN</td>\n      <td>Sony Pictures</td>\n      <td>Based on Comic/Graphic Novel</td>\n      <td>Adventure</td>\n      <td>Super Hero</td>\n      <td>Peter Hewitt</td>\n      <td>3.0</td>\n      <td>3.4</td>\n      <td>7424.0</td>\n    </tr>\n    <tr>\n      <th>3199</th>\n      <td>The Legend of Zorro</td>\n      <td>45575336.0</td>\n      <td>141475336.0</td>\n      <td>NaN</td>\n      <td>80000000.0</td>\n      <td>28-Oct-05</td>\n      <td>PG</td>\n      <td>129.0</td>\n      <td>Sony Pictures</td>\n      <td>Remake</td>\n      <td>Adventure</td>\n      <td>Historical Fiction</td>\n      <td>Martin Campbell</td>\n      <td>26.0</td>\n      <td>5.7</td>\n      <td>21161.0</td>\n    </tr>\n    <tr>\n      <th>3200</th>\n      <td>The Mask of Zorro</td>\n      <td>93828745.0</td>\n      <td>233700000.0</td>\n      <td>NaN</td>\n      <td>65000000.0</td>\n      <td>17-Jul-98</td>\n      <td>PG-13</td>\n      <td>136.0</td>\n      <td>Sony Pictures</td>\n      <td>Remake</td>\n      <td>Adventure</td>\n      <td>Historical Fiction</td>\n      <td>Martin Campbell</td>\n      <td>82.0</td>\n      <td>6.7</td>\n      <td>4789.0</td>\n    </tr>\n  </tbody>\n</table>\n<p>3201 rows × 16 columns</p>\n</div>"
     },
     "metadata": {},
     "execution_count": 248
    }
   ],
   "source": [
    "# ADICIONE O SEU CÓDIGO AQUI\n",
    "dataset"
   ]
  }
 ],
 "metadata": {
  "kernelspec": {
   "display_name": "Python 3.6.9 64-bit",
   "language": "python",
   "name": "python36964bitd20c20a10e11406d895f3cd3a9d16d89"
  },
  "language_info": {
   "codemirror_mode": {
    "name": "ipython",
    "version": 3
   },
   "file_extension": ".py",
   "mimetype": "text/x-python",
   "name": "python",
   "nbconvert_exporter": "python",
   "pygments_lexer": "ipython3",
   "version": "3.6.9-final"
  }
 },
 "nbformat": 4,
 "nbformat_minor": 4
}