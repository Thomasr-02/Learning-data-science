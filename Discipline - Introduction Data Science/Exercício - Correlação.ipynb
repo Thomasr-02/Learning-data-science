{
 "cells": [
  {
   "cell_type": "markdown",
   "metadata": {},
   "source": [
    "# Introdução à Ciência de Dados - UFPB\n",
    "Professor: Yuri Malheiros\n",
    "\n",
    "## Correlação"
   ]
  },
  {
   "cell_type": "markdown",
   "metadata": {},
   "source": [
    "Colete os seguintes dados dos times do campeonato brasileiro de 2019:\n",
    "\n",
    "- Pontos\n",
    "- Gols marcados\n",
    "- Gol sofridos\n",
    "\n",
    "Você pode encontrar esses dados no site da CBF (www.cbf.com.br)\n",
    "\n",
    "Calcule a correlação entre:\n",
    "\n",
    "- Pontos e gols marcados\n",
    "- Pontos e gols sofridos"
   ]
  },
  {
   "cell_type": "markdown",
   "metadata": {},
   "source": [
    "### Correlação entre Pontos e gols marcados"
   ]
  },
  {
   "cell_type": "code",
   "execution_count": 33,
   "metadata": {},
   "outputs": [
    {
     "output_type": "execute_result",
     "data": {
      "text/plain": [
       "          PG        GP\n",
       "PG  1.000000  0.935497\n",
       "GP  0.935497  1.000000"
      ],
      "text/html": "<div>\n<style scoped>\n    .dataframe tbody tr th:only-of-type {\n        vertical-align: middle;\n    }\n\n    .dataframe tbody tr th {\n        vertical-align: top;\n    }\n\n    .dataframe thead th {\n        text-align: right;\n    }\n</style>\n<table border=\"1\" class=\"dataframe\">\n  <thead>\n    <tr style=\"text-align: right;\">\n      <th></th>\n      <th>PG</th>\n      <th>GP</th>\n    </tr>\n  </thead>\n  <tbody>\n    <tr>\n      <th>PG</th>\n      <td>1.000000</td>\n      <td>0.935497</td>\n    </tr>\n    <tr>\n      <th>GP</th>\n      <td>0.935497</td>\n      <td>1.000000</td>\n    </tr>\n  </tbody>\n</table>\n</div>"
     },
     "metadata": {},
     "execution_count": 33
    }
   ],
   "source": [
    "# ADICIONE O SEU CÓDIGO AQUI\n",
    "import pandas as pd\n",
    "import os\n",
    "CURRENT_DIR=os.path.abspath(os.getcwd())\n",
    "dataset = pd.read_csv(CURRENT_DIR+'/datasets/'+'CampBrasileiro2019.csv')\n",
    "dataset[['PG','GP']].corr()\n",
    "\n"
   ]
  },
  {
   "cell_type": "markdown",
   "metadata": {},
   "source": [
    "### Correlação entre Pontos e gols sofridos"
   ]
  },
  {
   "cell_type": "code",
   "execution_count": 39,
   "metadata": {},
   "outputs": [
    {
     "output_type": "execute_result",
     "data": {
      "text/plain": [
       "          PG        GC\n",
       "PG  1.000000 -0.716262\n",
       "GC -0.716262  1.000000"
      ],
      "text/html": "<div>\n<style scoped>\n    .dataframe tbody tr th:only-of-type {\n        vertical-align: middle;\n    }\n\n    .dataframe tbody tr th {\n        vertical-align: top;\n    }\n\n    .dataframe thead th {\n        text-align: right;\n    }\n</style>\n<table border=\"1\" class=\"dataframe\">\n  <thead>\n    <tr style=\"text-align: right;\">\n      <th></th>\n      <th>PG</th>\n      <th>GC</th>\n    </tr>\n  </thead>\n  <tbody>\n    <tr>\n      <th>PG</th>\n      <td>1.000000</td>\n      <td>-0.716262</td>\n    </tr>\n    <tr>\n      <th>GC</th>\n      <td>-0.716262</td>\n      <td>1.000000</td>\n    </tr>\n  </tbody>\n</table>\n</div>"
     },
     "metadata": {},
     "execution_count": 39
    }
   ],
   "source": [
    "# ADICIONE O SEU CÓDIGO AQUI\n",
    "dataset[['PG','GC']].corr()\n",
    "\n"
   ]
  },
  {
   "cell_type": "markdown",
   "metadata": {},
   "source": [
    "### Análise dos Resultados\n",
    "\n",
    "Qual o nível (fraco, moderado, forte) das correlações entre as variáveis analisadas?"
   ]
  },
  {
   "cell_type": "markdown",
   "metadata": {},
   "source": [
    "**RESPONDA AQUI**\n",
    "\n",
    "A primeira correlação apresentada pelos pontos ganhos e gols feitos teve um grau de correlação muito forte (0.8-1.0)\n",
    "\n",
    "A segunda analise entre pontos ganhos e gols sofridos teve um grau de correlação forte pois estava entre (0.6-0.8) "
   ]
  },
  {
   "cell_type": "markdown",
   "metadata": {},
   "source": [
    "De acordo com os dados analisados, é melhor um time focar em marcar mais gols ou sofrer menos gols?"
   ]
  },
  {
   "cell_type": "markdown",
   "metadata": {},
   "source": [
    "**RESPONDA AQUI**\n",
    "\n",
    "O time deveria focar mais em fazer mais gols pois possui mais correlação para ganhar pontos e assim vencer o campeonato.\n"
   ]
  }
 ],
 "metadata": {
  "kernelspec": {
   "display_name": "Python 3.6.9 64-bit",
   "language": "python",
   "name": "python36964bitd20c20a10e11406d895f3cd3a9d16d89"
  },
  "language_info": {
   "codemirror_mode": {
    "name": "ipython",
    "version": 3
   },
   "file_extension": ".py",
   "mimetype": "text/x-python",
   "name": "python",
   "nbconvert_exporter": "python",
   "pygments_lexer": "ipython3",
   "version": "3.6.9-final"
  }
 },
 "nbformat": 4,
 "nbformat_minor": 4
}